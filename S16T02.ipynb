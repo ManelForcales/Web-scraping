{
 "cells": [
  {
   "cell_type": "code",
   "execution_count": 1,
   "metadata": {},
   "outputs": [],
   "source": [
    "import requests\n",
    "from bs4 import BeautifulSoup"
   ]
  },
  {
   "cell_type": "code",
   "execution_count": 2,
   "metadata": {},
   "outputs": [],
   "source": [
    "import pandas as pd\n",
    "import seaborn as sns\n",
    "import matplotlib.pyplot as plt\n",
    "import numpy as np\n",
    "pd.set_option('display.max_columns', None)\n",
    "%matplotlib inline"
   ]
  },
  {
   "cell_type": "markdown",
   "metadata": {},
   "source": [
    "### Nivell 1"
   ]
  },
  {
   "cell_type": "markdown",
   "metadata": {},
   "source": [
    "- Exercici 1\n",
    "\n",
    "Realitza web scraping d'una pàgina de la borsa de Madrid (https://www.bolsamadrid.es) utilitzant BeautifulSoup i Selenium."
   ]
  },
  {
   "cell_type": "code",
   "execution_count": 3,
   "metadata": {},
   "outputs": [],
   "source": [
    "url = 'https://www.bolsamadrid.es'\n",
    "html = requests.get(url)"
   ]
  },
  {
   "cell_type": "code",
   "execution_count": 4,
   "metadata": {},
   "outputs": [],
   "source": [
    "soup = BeautifulSoup(html.content, 'html.parser')"
   ]
  },
  {
   "cell_type": "markdown",
   "metadata": {},
   "source": [
    "+ anem a buscar els valors de les accions de les diferents companyies\n",
    "+ posarem aquests valors en un dataFrame"
   ]
  },
  {
   "cell_type": "code",
   "execution_count": 5,
   "metadata": {},
   "outputs": [],
   "source": [
    "# en primer lloc vaig a trobar tots els hyperlinks que tingin el string 'Acciones' \n",
    "links = []\n",
    "for link in soup.find_all('a', string='Acciones'):\n",
    "    links.append(link.get('href'))"
   ]
  },
  {
   "cell_type": "code",
   "execution_count": 6,
   "metadata": {},
   "outputs": [
    {
     "data": {
      "text/plain": [
       "['/esp/aspx/Mercados/Precios.aspx?indice=ESI100000000',\n",
       " '/esp/aspx/Mercados/Precios.aspx?indice=ESI100000000']"
      ]
     },
     "execution_count": 6,
     "metadata": {},
     "output_type": "execute_result"
    }
   ],
   "source": [
    "links"
   ]
  },
  {
   "cell_type": "code",
   "execution_count": 7,
   "metadata": {},
   "outputs": [],
   "source": [
    "new_url = url+links[0]"
   ]
  },
  {
   "cell_type": "code",
   "execution_count": 8,
   "metadata": {},
   "outputs": [],
   "source": [
    "html_acciones = requests.get(new_url)\n",
    "soup_acciones = BeautifulSoup(html_acciones.content, 'html.parser')"
   ]
  },
  {
   "cell_type": "code",
   "execution_count": 9,
   "metadata": {},
   "outputs": [],
   "source": [
    "# busco la taula de continguts amb el seguent id especific\n",
    "tabla_acciones = soup_acciones.find(id='ctl00_Contenido_tblAcciones')"
   ]
  },
  {
   "cell_type": "code",
   "execution_count": 10,
   "metadata": {},
   "outputs": [
    {
     "name": "stdout",
     "output_type": "stream",
     "text": [
      "['Nombre', 'Últ.', '% Dif.', 'Máx.', 'Mín.', 'Volumen', 'Efectivo (miles €)', 'Fecha', 'Hora']\n"
     ]
    }
   ],
   "source": [
    "columnas=[]\n",
    "\n",
    "for element in tabla_acciones.find_all(\"th\"):    \n",
    "    columnas.append(element.text)\n",
    "    \n",
    "print(columnas)"
   ]
  },
  {
   "cell_type": "code",
   "execution_count": 11,
   "metadata": {},
   "outputs": [],
   "source": [
    "# guardo tots els valors en aquestas llista\n",
    "resultados = []\n",
    "for element in tabla_acciones.find_all(\"td\"):\n",
    "    resultados.append(element.text)    "
   ]
  },
  {
   "cell_type": "code",
   "execution_count": 12,
   "metadata": {},
   "outputs": [],
   "source": [
    "# creo un diccionari\n",
    "datos = {}"
   ]
  },
  {
   "cell_type": "code",
   "execution_count": 13,
   "metadata": {},
   "outputs": [],
   "source": [
    "# em salto cada 9 elements per tenir els mateix tipus de valors\n",
    "for i in range(9):\n",
    "    datos[columnas[i]]=resultados[i::9]"
   ]
  },
  {
   "cell_type": "code",
   "execution_count": 14,
   "metadata": {},
   "outputs": [],
   "source": [
    "#converteixo el diccionari en un DataFrame\n",
    "df = pd.DataFrame(datos)"
   ]
  },
  {
   "cell_type": "code",
   "execution_count": 15,
   "metadata": {},
   "outputs": [
    {
     "data": {
      "text/html": [
       "<div>\n",
       "<style scoped>\n",
       "    .dataframe tbody tr th:only-of-type {\n",
       "        vertical-align: middle;\n",
       "    }\n",
       "\n",
       "    .dataframe tbody tr th {\n",
       "        vertical-align: top;\n",
       "    }\n",
       "\n",
       "    .dataframe thead th {\n",
       "        text-align: right;\n",
       "    }\n",
       "</style>\n",
       "<table border=\"1\" class=\"dataframe\">\n",
       "  <thead>\n",
       "    <tr style=\"text-align: right;\">\n",
       "      <th></th>\n",
       "      <th>Nombre</th>\n",
       "      <th>Últ.</th>\n",
       "      <th>% Dif.</th>\n",
       "      <th>Máx.</th>\n",
       "      <th>Mín.</th>\n",
       "      <th>Volumen</th>\n",
       "      <th>Efectivo (miles €)</th>\n",
       "      <th>Fecha</th>\n",
       "      <th>Hora</th>\n",
       "    </tr>\n",
       "  </thead>\n",
       "  <tbody>\n",
       "    <tr>\n",
       "      <th>30</th>\n",
       "      <td>REPSOL</td>\n",
       "      <td>11,2140</td>\n",
       "      <td>-0,07</td>\n",
       "      <td>11,2800</td>\n",
       "      <td>11,1620</td>\n",
       "      <td>2.521.026</td>\n",
       "      <td>28.293,62</td>\n",
       "      <td>11/06/2021</td>\n",
       "      <td>Cierre</td>\n",
       "    </tr>\n",
       "    <tr>\n",
       "      <th>31</th>\n",
       "      <td>SIEMENS GAME</td>\n",
       "      <td>24,7400</td>\n",
       "      <td>1,06</td>\n",
       "      <td>24,7800</td>\n",
       "      <td>24,2300</td>\n",
       "      <td>920.834</td>\n",
       "      <td>22.636,06</td>\n",
       "      <td>11/06/2021</td>\n",
       "      <td>Cierre</td>\n",
       "    </tr>\n",
       "    <tr>\n",
       "      <th>32</th>\n",
       "      <td>SOLARIA</td>\n",
       "      <td>15,1350</td>\n",
       "      <td>2,68</td>\n",
       "      <td>15,4500</td>\n",
       "      <td>14,7500</td>\n",
       "      <td>940.500</td>\n",
       "      <td>14.260,84</td>\n",
       "      <td>11/06/2021</td>\n",
       "      <td>Cierre</td>\n",
       "    </tr>\n",
       "    <tr>\n",
       "      <th>33</th>\n",
       "      <td>TELEFONICA</td>\n",
       "      <td>4,0795</td>\n",
       "      <td>-0,46</td>\n",
       "      <td>4,1020</td>\n",
       "      <td>4,0390</td>\n",
       "      <td>8.669.982</td>\n",
       "      <td>35.268,91</td>\n",
       "      <td>11/06/2021</td>\n",
       "      <td>Cierre</td>\n",
       "    </tr>\n",
       "    <tr>\n",
       "      <th>34</th>\n",
       "      <td>VISCOFAN</td>\n",
       "      <td>57,9500</td>\n",
       "      <td>0,43</td>\n",
       "      <td>58,2500</td>\n",
       "      <td>57,5000</td>\n",
       "      <td>63.132</td>\n",
       "      <td>3.650,35</td>\n",
       "      <td>11/06/2021</td>\n",
       "      <td>Cierre</td>\n",
       "    </tr>\n",
       "  </tbody>\n",
       "</table>\n",
       "</div>"
      ],
      "text/plain": [
       "          Nombre     Últ. % Dif.     Máx.     Mín.    Volumen  \\\n",
       "30        REPSOL  11,2140  -0,07  11,2800  11,1620  2.521.026   \n",
       "31  SIEMENS GAME  24,7400   1,06  24,7800  24,2300    920.834   \n",
       "32       SOLARIA  15,1350   2,68  15,4500  14,7500    940.500   \n",
       "33    TELEFONICA   4,0795  -0,46   4,1020   4,0390  8.669.982   \n",
       "34      VISCOFAN  57,9500   0,43  58,2500  57,5000     63.132   \n",
       "\n",
       "   Efectivo (miles €)       Fecha    Hora  \n",
       "30          28.293,62  11/06/2021  Cierre  \n",
       "31          22.636,06  11/06/2021  Cierre  \n",
       "32          14.260,84  11/06/2021  Cierre  \n",
       "33          35.268,91  11/06/2021  Cierre  \n",
       "34           3.650,35  11/06/2021  Cierre  "
      ]
     },
     "execution_count": 15,
     "metadata": {},
     "output_type": "execute_result"
    }
   ],
   "source": [
    "# ja tinc la taula de les 35 companyias del IBEX\n",
    "df.tail()"
   ]
  },
  {
   "cell_type": "markdown",
   "metadata": {},
   "source": [
    "+ anem a fer una cosa similar amb selenium"
   ]
  },
  {
   "cell_type": "code",
   "execution_count": 35,
   "metadata": {},
   "outputs": [
    {
     "name": "stderr",
     "output_type": "stream",
     "text": [
      "<ipython-input-35-a91e243008e7>:6: DeprecationWarning: use setter for headless property instead of set_headless\n",
      "  opts.set_headless()\n"
     ]
    }
   ],
   "source": [
    "# obrim la pagina web a la url disitjada\n",
    "\n",
    "from selenium.webdriver import Firefox\n",
    "from selenium.webdriver.firefox.options import Options\n",
    "opts = Options()\n",
    "opts.set_headless()\n",
    "assert opts.headless  # Operating in headless mode\n",
    "#browser = Firefox(options=opts)\n",
    "browser = Firefox(executable_path = '/home/vant/Descargas/geckodriver-v0.29.1-linux64/geckodriver')\n",
    "url = 'https://www.bolsamadrid.es'\n",
    "browser.get(url)"
   ]
  },
  {
   "cell_type": "code",
   "execution_count": 36,
   "metadata": {
    "scrolled": true
   },
   "outputs": [],
   "source": [
    "# busquem alla on tenim el text Acciones i cliquem\n",
    "links = browser.find_elements_by_link_text('Acciones')\n",
    "links[0].click()"
   ]
  },
  {
   "cell_type": "code",
   "execution_count": 47,
   "metadata": {},
   "outputs": [],
   "source": [
    "# un cop a la nova finestra busquem els valors de la taula\n",
    "table = browser.find_element_by_id('ctl00_Contenido_tblAcciones')"
   ]
  },
  {
   "cell_type": "code",
   "execution_count": 49,
   "metadata": {},
   "outputs": [
    {
     "data": {
      "text/plain": [
       "'Nombre Últ. % Dif. Máx. Mín. Volumen Efectivo (miles €) Fecha Hora\\nACCIONA 131,3000 -0,53 132,0000 129,9000 99.891 13.076,78 11/06/2021 Cierre\\nACERINOX 11,7000 2,09 11,7850 11,4700 1.263.717 14.751,67 11/06/2021 Cierre\\nACS 25,4200 1,64 25,4300 25,0100 2.645.870 66.322,35 11/06/2021 Cierre\\nAENA 140,4500 -0,57 142,8500 140,4500 157.205 22.116,04 11/06/2021 Cierre\\nALMIRALL 14,9600 -0,33 15,1200 14,9300 250.595 3.759,52 11/06/2021 Cierre\\nAMADEUS 65,7000 3,20 65,7600 63,4800 1.257.886 82.475,40 11/06/2021 Cierre\\nARCELORMIT. 27,2700 1,77 27,7350 26,6800 570.032 15.576,31 11/06/2021 Cierre\\nB.SANTANDER 3,4345 -0,33 3,4410 3,4050 26.009.851 89.143,62 11/06/2021 Cierre\\nBA.SABADELL 0,6400 -0,56 0,6446 0,6354 18.093.277 11.573,09 11/06/2021 Cierre\\nBANKINTER 4,4680 -0,22 4,4960 4,4190 1.459.363 6.510,12 11/06/2021 Cierre\\nBBVA 5,2460 -0,51 5,2760 5,2240 8.086.048 43.790,37 11/06/2021 Cierre\\nCAIXABANK 2,7690 -0,54 2,7730 2,7450 6.221.036 17.179,68 11/06/2021 Cierre\\nCELLNEX 51,7800 1,65 51,8600 51,0600 924.156 47.777,42 11/06/2021 Cierre\\nCIE AUTOMOT. 25,7200 3,13 25,8400 24,8600 144.225 3.672,71 11/06/2021 Cierre\\nENAGAS 19,4950 -1,42 19,6400 19,2200 1.004.973 19.574,84 11/06/2021 Cierre\\nENDESA 21,7400 0,18 21,8400 21,6900 1.041.482 22.650,23 11/06/2021 Cierre\\nFERROVIAL 25,2600 1,20 25,4000 24,9500 714.307 18.058,65 11/06/2021 Cierre\\nFLUIDRA 33,6000 1,36 34,2000 33,0500 286.396 9.660,42 11/06/2021 Cierre\\nGRIFOLS CL.A 24,2800 8,54 25,9400 24,0000 2.928.337 71.392,08 11/06/2021 Cierre\\nIAG 2,3670 0,98 2,3720 2,3200 6.394.247 15.074,90 11/06/2021 Cierre\\nIBERDROLA 10,6950 1,47 10,7150 10,5750 8.643.745 92.242,84 11/06/2021 Cierre\\nINDITEX 31,3200 0,77 31,7000 31,1400 3.897.513 122.301,82 11/06/2021 Cierre\\nINDRA A 7,6550 1,12 7,7050 7,4900 1.118.101 8.539,41 11/06/2021 Cierre\\nINM.COLONIAL 9,4550 -1,25 9,5500 9,4000 663.796 6.280,77 11/06/2021 Cierre\\nMAPFRE 1,8400 0,74 1,8430 1,8105 2.553.713 4.673,86 11/06/2021 Cierre\\nMELIA HOTELS 7,0900 2,01 7,1500 6,9620 734.462 5.181,08 11/06/2021 Cierre\\nMERLIN 9,5020 0,06 9,5480 9,3060 807.299 7.653,79 11/06/2021 Cierre\\nNATURGY 21,9000 0,55 21,9500 21,7500 560.760 12.276,76 11/06/2021 Cierre\\nPHARMA MAR 77,2800 0,65 77,8400 75,9400 77.732 5.998,43 11/06/2021 Cierre\\nR.E.C. 16,8900 -0,24 16,9400 16,8600 1.216.710 20.554,21 11/06/2021 Cierre\\nREPSOL 11,2140 -0,07 11,2800 11,1620 2.521.026 28.293,62 11/06/2021 Cierre\\nSIEMENS GAME 24,7400 1,06 24,7800 24,2300 920.834 22.636,06 11/06/2021 Cierre\\nSOLARIA 15,1350 2,68 15,4500 14,7500 940.500 14.260,84 11/06/2021 Cierre\\nTELEFONICA 4,0795 -0,46 4,1020 4,0390 8.669.982 35.268,91 11/06/2021 Cierre\\nVISCOFAN 57,9500 0,43 58,2500 57,5000 63.132 3.650,35 11/06/2021 Cierre'"
      ]
     },
     "execution_count": 49,
     "metadata": {},
     "output_type": "execute_result"
    }
   ],
   "source": [
    "table.text"
   ]
  },
  {
   "cell_type": "markdown",
   "metadata": {},
   "source": [
    "### Nivell 2"
   ]
  },
  {
   "cell_type": "markdown",
   "metadata": {},
   "source": [
    "- Exercici 2\n",
    "\n",
    "Documenta en un word el teu conjunt de dades generat amb la informació que tenen els diferents arxius de Kaggle."
   ]
  },
  {
   "cell_type": "code",
   "execution_count": null,
   "metadata": {},
   "outputs": [],
   "source": []
  },
  {
   "cell_type": "code",
   "execution_count": null,
   "metadata": {},
   "outputs": [],
   "source": []
  },
  {
   "cell_type": "code",
   "execution_count": null,
   "metadata": {},
   "outputs": [],
   "source": []
  },
  {
   "cell_type": "code",
   "execution_count": null,
   "metadata": {},
   "outputs": [],
   "source": []
  },
  {
   "cell_type": "code",
   "execution_count": null,
   "metadata": {},
   "outputs": [],
   "source": []
  },
  {
   "cell_type": "code",
   "execution_count": null,
   "metadata": {},
   "outputs": [],
   "source": []
  },
  {
   "cell_type": "code",
   "execution_count": null,
   "metadata": {},
   "outputs": [],
   "source": []
  }
 ],
 "metadata": {
  "kernelspec": {
   "display_name": "Python 3.8.5 64-bit",
   "language": "python",
   "name": "python38564bit085283b789164c689fec9352bdb58d25"
  },
  "language_info": {
   "codemirror_mode": {
    "name": "ipython",
    "version": 3
   },
   "file_extension": ".py",
   "mimetype": "text/x-python",
   "name": "python",
   "nbconvert_exporter": "python",
   "pygments_lexer": "ipython3",
   "version": "3.8.5"
  }
 },
 "nbformat": 4,
 "nbformat_minor": 4
}
